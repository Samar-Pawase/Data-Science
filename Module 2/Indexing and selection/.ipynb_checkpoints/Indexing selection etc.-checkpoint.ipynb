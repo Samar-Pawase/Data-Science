{
 "cells": [
  {
   "cell_type": "code",
   "execution_count": 7,
   "metadata": {},
   "outputs": [],
   "source": [
    "# Importing lib\n",
    "import pandas as pd"
   ]
  },
  {
   "cell_type": "code",
   "execution_count": 8,
   "metadata": {},
   "outputs": [],
   "source": [
    "df = pd.read_csv(\"data.csv\")"
   ]
  },
  {
   "cell_type": "code",
   "execution_count": 9,
   "metadata": {},
   "outputs": [
    {
     "data": {
      "text/plain": [
       "<bound method NDFrame.head of           ID  Clump_Thickness  Cell_Size_Uniformity  Cell_Shape_Uniformity  \\\n",
       "0    1000025                5                     1                      1   \n",
       "1    1002945                5                     4                      4   \n",
       "2    1015425                3                     1                      1   \n",
       "3    1016277                6                     8                      8   \n",
       "4    1017023                4                     1                      1   \n",
       "..       ...              ...                   ...                    ...   \n",
       "694   776715                3                     1                      1   \n",
       "695   841769                2                     1                      1   \n",
       "696   888820                5                    10                     10   \n",
       "697   897471                4                     8                      6   \n",
       "698   897471                4                     8                      8   \n",
       "\n",
       "     Marginal_Adhesion  Single_Epithelial_Cell_Size Bare_Nuclei  \\\n",
       "0                    1                          2.0           1   \n",
       "1                    5                          NaN          10   \n",
       "2                    1                          2.0           2   \n",
       "3                    1                          3.0           4   \n",
       "4                    3                          2.0           1   \n",
       "..                 ...                          ...         ...   \n",
       "694                  1                          3.0           2   \n",
       "695                  1                          2.0           1   \n",
       "696                  3                          7.0           3   \n",
       "697                  4                          3.0           4   \n",
       "698                  5                          4.0           5   \n",
       "\n",
       "     Bland_Chromatin  Normal_Nucleoli  Mitoses  Cancer_Type  \n",
       "0                  3                1        1            2  \n",
       "1                  3                2        1            2  \n",
       "2                  3                1        1            2  \n",
       "3                  3                7        1            2  \n",
       "4                  3                1        1            2  \n",
       "..               ...              ...      ...          ...  \n",
       "694                1                1        1            2  \n",
       "695                1                1        1            2  \n",
       "696                8               10        2            4  \n",
       "697               10                6        1            4  \n",
       "698               10                4        1            4  \n",
       "\n",
       "[699 rows x 11 columns]>"
      ]
     },
     "execution_count": 9,
     "metadata": {},
     "output_type": "execute_result"
    }
   ],
   "source": [
    "df.head"
   ]
  },
  {
   "cell_type": "code",
   "execution_count": 10,
   "metadata": {},
   "outputs": [
    {
     "data": {
      "text/plain": [
       "<bound method NDFrame.tail of           ID  Clump_Thickness  Cell_Size_Uniformity  Cell_Shape_Uniformity  \\\n",
       "0    1000025                5                     1                      1   \n",
       "1    1002945                5                     4                      4   \n",
       "2    1015425                3                     1                      1   \n",
       "3    1016277                6                     8                      8   \n",
       "4    1017023                4                     1                      1   \n",
       "..       ...              ...                   ...                    ...   \n",
       "694   776715                3                     1                      1   \n",
       "695   841769                2                     1                      1   \n",
       "696   888820                5                    10                     10   \n",
       "697   897471                4                     8                      6   \n",
       "698   897471                4                     8                      8   \n",
       "\n",
       "     Marginal_Adhesion  Single_Epithelial_Cell_Size Bare_Nuclei  \\\n",
       "0                    1                          2.0           1   \n",
       "1                    5                          NaN          10   \n",
       "2                    1                          2.0           2   \n",
       "3                    1                          3.0           4   \n",
       "4                    3                          2.0           1   \n",
       "..                 ...                          ...         ...   \n",
       "694                  1                          3.0           2   \n",
       "695                  1                          2.0           1   \n",
       "696                  3                          7.0           3   \n",
       "697                  4                          3.0           4   \n",
       "698                  5                          4.0           5   \n",
       "\n",
       "     Bland_Chromatin  Normal_Nucleoli  Mitoses  Cancer_Type  \n",
       "0                  3                1        1            2  \n",
       "1                  3                2        1            2  \n",
       "2                  3                1        1            2  \n",
       "3                  3                7        1            2  \n",
       "4                  3                1        1            2  \n",
       "..               ...              ...      ...          ...  \n",
       "694                1                1        1            2  \n",
       "695                1                1        1            2  \n",
       "696                8               10        2            4  \n",
       "697               10                6        1            4  \n",
       "698               10                4        1            4  \n",
       "\n",
       "[699 rows x 11 columns]>"
      ]
     },
     "execution_count": 10,
     "metadata": {},
     "output_type": "execute_result"
    }
   ],
   "source": [
    "df.tail"
   ]
  },
  {
   "cell_type": "code",
   "execution_count": 11,
   "metadata": {},
   "outputs": [
    {
     "data": {
      "text/plain": [
       "<bound method NDFrame.head of           ID  Clump_Thickness  Cell_Size_Uniformity  Cell_Shape_Uniformity  \\\n",
       "0    1000025                5                     1                      1   \n",
       "1    1002945                5                     4                      4   \n",
       "2    1015425                3                     1                      1   \n",
       "3    1016277                6                     8                      8   \n",
       "4    1017023                4                     1                      1   \n",
       "..       ...              ...                   ...                    ...   \n",
       "694   776715                3                     1                      1   \n",
       "695   841769                2                     1                      1   \n",
       "696   888820                5                    10                     10   \n",
       "697   897471                4                     8                      6   \n",
       "698   897471                4                     8                      8   \n",
       "\n",
       "     Marginal_Adhesion  Single_Epithelial_Cell_Size Bare_Nuclei  \\\n",
       "0                    1                          2.0           1   \n",
       "1                    5                          NaN          10   \n",
       "2                    1                          2.0           2   \n",
       "3                    1                          3.0           4   \n",
       "4                    3                          2.0           1   \n",
       "..                 ...                          ...         ...   \n",
       "694                  1                          3.0           2   \n",
       "695                  1                          2.0           1   \n",
       "696                  3                          7.0           3   \n",
       "697                  4                          3.0           4   \n",
       "698                  5                          4.0           5   \n",
       "\n",
       "     Bland_Chromatin  Normal_Nucleoli  Mitoses  Cancer_Type  \n",
       "0                  3                1        1            2  \n",
       "1                  3                2        1            2  \n",
       "2                  3                1        1            2  \n",
       "3                  3                7        1            2  \n",
       "4                  3                1        1            2  \n",
       "..               ...              ...      ...          ...  \n",
       "694                1                1        1            2  \n",
       "695                1                1        1            2  \n",
       "696                8               10        2            4  \n",
       "697               10                6        1            4  \n",
       "698               10                4        1            4  \n",
       "\n",
       "[699 rows x 11 columns]>"
      ]
     },
     "execution_count": 11,
     "metadata": {},
     "output_type": "execute_result"
    }
   ],
   "source": [
    "df.head"
   ]
  },
  {
   "cell_type": "code",
   "execution_count": null,
   "metadata": {},
   "outputs": [],
   "source": []
  },
  {
   "cell_type": "code",
   "execution_count": null,
   "metadata": {},
   "outputs": [],
   "source": []
  }
 ],
 "metadata": {
  "kernelspec": {
   "display_name": "Python 3 (ipykernel)",
   "language": "python",
   "name": "python3"
  },
  "language_info": {
   "codemirror_mode": {
    "name": "ipython",
    "version": 3
   },
   "file_extension": ".py",
   "mimetype": "text/x-python",
   "name": "python",
   "nbconvert_exporter": "python",
   "pygments_lexer": "ipython3",
   "version": "3.10.5"
  }
 },
 "nbformat": 4,
 "nbformat_minor": 2
}
